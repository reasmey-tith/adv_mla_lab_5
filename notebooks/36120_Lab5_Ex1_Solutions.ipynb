{
 "cells": [
  {
   "cell_type": "markdown",
   "metadata": {
    "id": "uQ6wc2HE0pke"
   },
   "source": [
    "# **Lab: Model Interpretation**\n",
    "\n"
   ]
  },
  {
   "cell_type": "markdown",
   "metadata": {
    "id": "tQgxLRrvjiJb"
   },
   "source": [
    "## Exercise 1: EDA and Baseline Model\n",
    "\n",
    "In this exercise we will start our data science project by preparing the dataset for modeling.\n",
    "\n",
    "The steps are:\n",
    "1.   Setup Environment\n",
    "2.   Add Functionalities to Custom Package\n",
    "3.   Load and explore dataset\n",
    "4.   Prepare Data\n",
    "5.   Split Dataset\n",
    "6.   Get Baseline model\n",
    "7.   Push changes\n"
   ]
  },
  {
   "cell_type": "markdown",
   "metadata": {
    "id": "smh_LhVjIg9s",
    "jp-MarkdownHeadingCollapsed": true
   },
   "source": [
    "### 1. Setup Environment"
   ]
  },
  {
   "cell_type": "markdown",
   "metadata": {
    "id": "_fTLEcebNjhz"
   },
   "source": [
    "**[1.1]** Go to a folder of your choice on your computer (where you store projects)"
   ]
  },
  {
   "cell_type": "code",
   "execution_count": null,
   "metadata": {
    "id": "Pe-loIVTNjqW"
   },
   "outputs": [],
   "source": [
    "# Placeholder for student's code (command line)"
   ]
  },
  {
   "cell_type": "code",
   "execution_count": null,
   "metadata": {
    "id": "4dL8A5y-NjtY"
   },
   "outputs": [],
   "source": [
    "# Solution:\n",
    "cd /Users/anthonyso/Projects/adv_mla_2024/"
   ]
  },
  {
   "cell_type": "markdown",
   "metadata": {
    "id": "EHQBJUHEQqcs"
   },
   "source": [
    "**[1.2]** Copy the cookiecutter data science template"
   ]
  },
  {
   "cell_type": "code",
   "execution_count": null,
   "metadata": {
    "id": "bM-1oZYxQqmO"
   },
   "outputs": [],
   "source": [
    "# Placeholder for student's code (command line)"
   ]
  },
  {
   "cell_type": "code",
   "execution_count": null,
   "metadata": {
    "id": "TbseMHf7Qqo2"
   },
   "outputs": [],
   "source": [
    "# Solution:\n",
    "cookiecutter -c v1 https://github.com/drivendata/cookiecutter-data-science"
   ]
  },
  {
   "cell_type": "markdown",
   "metadata": {
    "id": "scwewLhrRB_y"
   },
   "source": [
    "Follow the prompt (name the project and repo adv_mla_lab_5)"
   ]
  },
  {
   "cell_type": "markdown",
   "metadata": {
    "id": "elPnd9JPQwkD"
   },
   "source": [
    "**[1.3]** Go inside the created folder `adv_mla_lab_5`\n"
   ]
  },
  {
   "cell_type": "code",
   "execution_count": null,
   "metadata": {
    "id": "5VlHqFVqQwuC"
   },
   "outputs": [],
   "source": [
    "# Placeholder for student's code (command line)"
   ]
  },
  {
   "cell_type": "code",
   "execution_count": null,
   "metadata": {
    "id": "df9ydWQNQww0"
   },
   "outputs": [],
   "source": [
    "# Solution:\n",
    "cd adv_mla_lab_5"
   ]
  },
  {
   "cell_type": "markdown",
   "metadata": {
    "id": "gwC9GRvsTvOJ"
   },
   "source": [
    "**[1.4]** Initialise the repo"
   ]
  },
  {
   "cell_type": "code",
   "execution_count": null,
   "metadata": {
    "id": "JhEu_qxm-n44"
   },
   "outputs": [],
   "source": [
    "# Placeholder for student's code (command line)"
   ]
  },
  {
   "cell_type": "code",
   "execution_count": null,
   "metadata": {
    "id": "tBlpvOyYTvYm"
   },
   "outputs": [],
   "source": [
    "# Solution:\n",
    "git init"
   ]
  },
  {
   "cell_type": "markdown",
   "metadata": {
    "id": "hGw8ot1UdHqg"
   },
   "source": [
    "**[1.5]** Login into Github with your account (https://github.com/) and create a public repo with the name `adv_mla_lab_5`"
   ]
  },
  {
   "cell_type": "markdown",
   "metadata": {
    "id": "jD4H0EtCdDFr"
   },
   "source": [
    "**[1.6]** In your local repo `adv_mla_lab_5`, link it with Github (replace the url with your username)"
   ]
  },
  {
   "cell_type": "code",
   "execution_count": null,
   "metadata": {
    "id": "_3fCS9HtdDNw"
   },
   "outputs": [],
   "source": [
    "# Placeholder for student's code (command line)"
   ]
  },
  {
   "cell_type": "code",
   "execution_count": null,
   "metadata": {
    "id": "lpxHoo3SdDQo"
   },
   "outputs": [],
   "source": [
    "# Solution:\n",
    "git remote add origin git@github.com:<username>/adv_mla_lab_5"
   ]
  },
  {
   "cell_type": "markdown",
   "metadata": {
    "id": "P7KRLjcRn2d4"
   },
   "source": [
    "**[1.7]** Set the python version to 3.11.4 with pyenv"
   ]
  },
  {
   "cell_type": "code",
   "execution_count": null,
   "metadata": {
    "id": "xBNTTx7UAVCV"
   },
   "outputs": [],
   "source": [
    "# Placeholder for student's code (command line)"
   ]
  },
  {
   "cell_type": "code",
   "execution_count": null,
   "metadata": {
    "id": "hsv0dkk1n7Bg"
   },
   "outputs": [],
   "source": [
    "# Solution:\n",
    "pyenv local 3.11.4"
   ]
  },
  {
   "cell_type": "markdown",
   "metadata": {
    "id": "VQzBe9MF6pAO"
   },
   "source": [
    "**[1.8]** Initialise poetry project with python==~3.11 and no dependencies installed"
   ]
  },
  {
   "cell_type": "code",
   "execution_count": null,
   "metadata": {
    "id": "mxTdxIf46pGB"
   },
   "outputs": [],
   "source": [
    "# Placeholder for student's code (command line)"
   ]
  },
  {
   "cell_type": "code",
   "execution_count": null,
   "metadata": {
    "id": "4hccznxg6pIN"
   },
   "outputs": [],
   "source": [
    "# Solution\n",
    "poetry init"
   ]
  },
  {
   "cell_type": "markdown",
   "metadata": {
    "id": "4Dk-jam55qN2"
   },
   "source": [
    "**[1.9]** Install with poetry the following packages:\n",
    "*   pandas==2.2.2\n",
    "*   scikit-learn==1.5.1\n",
    "*   jupyterlab==4.2.3\n",
    "*   xgboost==2.1.0\n",
    "*   hyperopt==0.2.7\n",
    "\n"
   ]
  },
  {
   "cell_type": "code",
   "execution_count": null,
   "metadata": {
    "id": "j48Jk5uS5qVe"
   },
   "outputs": [],
   "source": [
    "# Placeholder for student's code (command line)"
   ]
  },
  {
   "cell_type": "code",
   "execution_count": null,
   "metadata": {
    "id": "wTiaeZID5qX1"
   },
   "outputs": [],
   "source": [
    "# Solution\n",
    "poetry add jupyterlab==4.2.3 pandas==2.2.2 scikit-learn==1.5.1 xgboost==2.1.0 hyperopt==0.2.7"
   ]
  },
  {
   "cell_type": "markdown",
   "metadata": {
    "id": "Toogi1wb5ql6"
   },
   "source": [
    "**[1.10]** Download the dataset into the sub-folder data/raw (https://raw.githubusercontent.com/aso-uts/labs_datasets/main/36120-adv_mla/lab03/yellow_tripdata_2020-04.csv)"
   ]
  },
  {
   "cell_type": "code",
   "execution_count": null,
   "metadata": {
    "id": "pBFrdPO95quC"
   },
   "outputs": [],
   "source": [
    "# For Windows users, you can download and install WGET. Or you can manually download the file from the link and save it to specified path\n",
    "wget -P /Users/anthonyso/Projects/adv_mla_2024/adv_mla_lab_5/data/raw https://raw.githubusercontent.com/aso-uts/labs_datasets/main/36120-adv_mla/lab03/yellow_tripdata_2020-04.csv"
   ]
  },
  {
   "cell_type": "markdown",
   "metadata": {
    "id": "xYRZxvK16Ueg"
   },
   "source": [
    "**[1.11]** Add you changes to git staging area, commit and push them to Github"
   ]
  },
  {
   "cell_type": "code",
   "execution_count": null,
   "metadata": {
    "id": "fbLlAoao6U2X"
   },
   "outputs": [],
   "source": [
    "# Placeholder for student's code (command line)"
   ]
  },
  {
   "cell_type": "code",
   "execution_count": null,
   "metadata": {
    "id": "dx27qdi26U6V"
   },
   "outputs": [],
   "source": [
    "# Solution:\n",
    "git add .\n",
    "git commit -m \"init\"\n",
    "git push --set-upstream origin master"
   ]
  },
  {
   "cell_type": "markdown",
   "metadata": {
    "id": "KRU2oniT9fSL"
   },
   "source": [
    "**[1.12]** Preventing push to `master` branch"
   ]
  },
  {
   "cell_type": "code",
   "execution_count": null,
   "metadata": {
    "id": "lsx9yZA49jk6"
   },
   "outputs": [],
   "source": [
    "# Placeholder for student's code (command line)"
   ]
  },
  {
   "cell_type": "code",
   "execution_count": null,
   "metadata": {
    "id": "5YYgmuoC9fby"
   },
   "outputs": [],
   "source": [
    "# Solution\n",
    "git config branch.master.pushRemote no_push"
   ]
  },
  {
   "cell_type": "markdown",
   "metadata": {
    "id": "jxQRDLu2C6D4"
   },
   "source": [
    "**[1.13]** Create a new git branch called `data_prep`"
   ]
  },
  {
   "cell_type": "code",
   "execution_count": null,
   "metadata": {
    "id": "y-S-ZdcqdoF7"
   },
   "outputs": [],
   "source": [
    "# Placeholder for student's code (command line)"
   ]
  },
  {
   "cell_type": "code",
   "execution_count": null,
   "metadata": {
    "id": "zBD6K4MXC6rA"
   },
   "outputs": [],
   "source": [
    "# Solution:\n",
    "git checkout -b data_prep"
   ]
  },
  {
   "cell_type": "markdown",
   "metadata": {
    "id": "fVU1mvtW7n9A"
   },
   "source": [
    "**[1.14]** Launch Jupyter Lab from your virtual environment"
   ]
  },
  {
   "cell_type": "code",
   "execution_count": null,
   "metadata": {
    "id": "sdfUZdmq7oCj"
   },
   "outputs": [],
   "source": [
    "# Placeholder for student's code (command line)"
   ]
  },
  {
   "cell_type": "code",
   "execution_count": null,
   "metadata": {
    "id": "80UOi4SE7oFH"
   },
   "outputs": [],
   "source": [
    "#Solution:\n",
    "poetry run jupyter lab"
   ]
  },
  {
   "cell_type": "markdown",
   "metadata": {
    "id": "yTjwF_joDWnE"
   },
   "source": [
    "**[1.15]** Navigate the folder `notebooks` and create a new jupyter notebook called `1_baseline.ipynb`"
   ]
  },
  {
   "cell_type": "markdown",
   "metadata": {
    "id": "ov96TUuJAoQr",
    "jp-MarkdownHeadingCollapsed": true
   },
   "source": [
    "### 2.   Add Functionalities to Custom Package"
   ]
  },
  {
   "cell_type": "markdown",
   "metadata": {
    "id": "Z-UgmOav2K9e"
   },
   "source": [
    "**[2.1]** In the `features/` folder from your custom package, create a file called `dates.py`. Inside it you will define a function called `convert_to_date` with the following logics:\n",
    "- input parameters: dataframe (`df`) and list of column names (`cols`)\n",
    "- logics: convert all columns in `cols` into datetime\n",
    "- output parameters: transformed dateframe"
   ]
  },
  {
   "cell_type": "code",
   "execution_count": null,
   "metadata": {
    "id": "74iNsfto2Lxd"
   },
   "outputs": [],
   "source": [
    "# Placeholder for student's code (Python code)"
   ]
  },
  {
   "cell_type": "code",
   "execution_count": null,
   "metadata": {
    "id": "uRZRXmNR2L0M"
   },
   "outputs": [],
   "source": [
    "# Solution\n",
    "def convert_to_date(df, cols:list):\n",
    "    \"\"\"Convert specified columns from a Pandas dataframe into datetime\n",
    "\n",
    "    Parameters\n",
    "    ----------\n",
    "    df : pd.DataFrame\n",
    "        Input dataframe\n",
    "    cols : list\n",
    "        List of columns to be converted\n",
    "\n",
    "    Returns\n",
    "    -------\n",
    "    pd.DataFrame\n",
    "        Pandas dataframe with converted columns\n",
    "    \"\"\"\n",
    "    import pandas as pd\n",
    "\n",
    "    for col in cols:\n",
    "        if col in df.columns:\n",
    "            df[col] = pd.to_datetime(df[col])\n",
    "    return df"
   ]
  },
  {
   "cell_type": "markdown",
   "metadata": {
    "id": "4BfZNJ1R-GW7"
   },
   "source": [
    "**[2.2]** In the `models/` folder from your custom package, create a script called `null.py` and define a class called `NullClassifier` with:\n",
    "```\n",
    "Attributes\n",
    "    ----------\n",
    "    y : Numpy Array-like\n",
    "        Target variable\n",
    "    pred_value : Float\n",
    "        Value to be used for prediction\n",
    "    preds : Numpy Array\n",
    "        Predicted array\n",
    "\n",
    "Methods\n",
    "-------\n",
    "    fit(y)\n",
    "        Store the input target variable and calculate the predicted value to be used\n",
    "    predict(y)\n",
    "        Generate the predictions\n",
    "    fit_predict(y)\n",
    "        Perform a fit followed by predict\n",
    "```"
   ]
  },
  {
   "cell_type": "code",
   "execution_count": null,
   "metadata": {
    "id": "QhtmFsBN-GdZ"
   },
   "outputs": [],
   "source": [
    "# Placeholder for student's code (Python code)"
   ]
  },
  {
   "cell_type": "code",
   "execution_count": null,
   "metadata": {
    "id": "XxK92iwJ-GiO"
   },
   "outputs": [],
   "source": [
    "# Solution:\n",
    "from scipy.stats import mode\n",
    "\n",
    "class NullClassifier:\n",
    "    \"\"\"\n",
    "    Class used as baseline model for classification problem\n",
    "    ...\n",
    "\n",
    "    Attributes\n",
    "    ----------\n",
    "    y : Numpy Array-like\n",
    "        Target variable\n",
    "    pred_value : Float\n",
    "        Value to be used for prediction\n",
    "    preds : Numpy Array\n",
    "        Predicted array\n",
    "\n",
    "    Methods\n",
    "    -------\n",
    "    fit(y)\n",
    "        Store the input target variable and calculate the predicted value to be used\n",
    "    predict(y)\n",
    "        Generate the predictions\n",
    "    fit_predict(y)\n",
    "        Perform a fit followed by predict\n",
    "    \"\"\"\n",
    "\n",
    "\n",
    "    def __init__(self):\n",
    "        self.y = None\n",
    "        self.pred_value = None\n",
    "        self.preds = None\n",
    "\n",
    "    def fit(self, y):\n",
    "        self.y = y\n",
    "        self.pred_value = mode(y).mode\n",
    "\n",
    "    def predict(self, y):\n",
    "        self.preds = np.full((len(y), 1), self.pred_value)\n",
    "        return self.preds\n",
    "\n",
    "    def fit_predict(self, y):\n",
    "        self.fit(y)\n",
    "        return self.predict(self.y)"
   ]
  },
  {
   "cell_type": "markdown",
   "metadata": {
    "id": "ORcJNo4ygaRa"
   },
   "source": [
    "**[2.3]** In the `models/performance.py` file from your custom package,, create a function called `print_classifier_scores` with the following logics:\n",
    "- input parameters: predicted target (`y_preds`), actual target (`y_actuals`) and name of the set (`set_name`)\n",
    "- logics: Print the Accuracy and F1 score for the provided data\n",
    "- output parameters: None"
   ]
  },
  {
   "cell_type": "code",
   "execution_count": null,
   "metadata": {
    "id": "QgVyt-4egaXE"
   },
   "outputs": [],
   "source": [
    "# Placeholder for student's code (Python code)"
   ]
  },
  {
   "cell_type": "code",
   "execution_count": null,
   "metadata": {
    "id": "QkXUqKMcgaZN"
   },
   "outputs": [],
   "source": [
    "# Solution:\n",
    "def print_classifier_scores(y_preds, y_actuals, set_name=None):\n",
    "    \"\"\"Print the Accuracy and F1 score for the provided data.\n",
    "    The value of the 'average' parameter for F1 score will be determined according to the number of distinct values of the target variable: 'binary' for bianry classification' or 'weighted' for multi-classs classification\n",
    "\n",
    "    Parameters\n",
    "    ----------\n",
    "    y_preds : Numpy Array\n",
    "        Predicted target\n",
    "    y_actuals : Numpy Array\n",
    "        Actual target\n",
    "    set_name : str\n",
    "        Name of the set to be printed\n",
    "    Returns\n",
    "    -------\n",
    "    \"\"\"\n",
    "    from sklearn.metrics import accuracy_score\n",
    "    from sklearn.metrics import f1_score\n",
    "    import pandas as pd\n",
    "\n",
    "    average = 'weighted' if pd.Series(y_actuals).nunique() > 2 else 'binary'\n",
    "\n",
    "    print(f\"Accuracy {set_name}: {accuracy_score(y_actuals, y_preds)}\")\n",
    "    print(f\"F1 {set_name}: {f1_score(y_actuals, y_preds, average=average)}\")"
   ]
  },
  {
   "cell_type": "markdown",
   "metadata": {
    "id": "VCh90GacB7Iy"
   },
   "source": [
    "**[2.4]** Inside `models/performance.py` file from your custom package,, define a function called `assess_classifier_set` with the following logics:\n",
    "- input parameters: trained model (`model`), features for a set (`features`), target for a set(`target`) and name of the set (`set_name`)\n",
    "- logics: Save the predictions of the model and print the accuracy and F1 on the given set\n",
    "- output parameters: None"
   ]
  },
  {
   "cell_type": "code",
   "execution_count": null,
   "metadata": {
    "id": "9szWykNqB7RV"
   },
   "outputs": [],
   "source": [
    "# Placeholder for student's code (Python code)"
   ]
  },
  {
   "cell_type": "code",
   "execution_count": null,
   "metadata": {
    "id": "Ru7bSHWfB7UD"
   },
   "outputs": [],
   "source": [
    "# Solution:\n",
    "def assess_classifier_set(model, features, target, set_name=''):\n",
    "    \"\"\"Save the predictions from a trained model on a given set and print its accuracy and F1 scores\n",
    "\n",
    "    Parameters\n",
    "    ----------\n",
    "    model: sklearn.base.BaseEstimator\n",
    "        Trained Sklearn model with set hyperparameters\n",
    "    features : Numpy Array\n",
    "        Features\n",
    "    target : Numpy Array\n",
    "        Target variable\n",
    "    set_name : str\n",
    "        Name of the set to be printed\n",
    "\n",
    "    Returns\n",
    "    -------\n",
    "    \"\"\"\n",
    "    preds = model.predict(features)\n",
    "    print_classifier_scores(y_preds=preds, y_actuals=target, set_name=set_name)\n"
   ]
  },
  {
   "cell_type": "markdown",
   "metadata": {
    "id": "_SvS76PeB9cR"
   },
   "source": [
    "**[2.5]** Inside `models/performance.py` file from your custom package,, define a function called `fit_assess_classifier` with the following logics:\n",
    "- input parameters: trained model (`model`), features for the training set (`X_train`), target for the training set(`y_train`), features for the validation set (`X_val`), target for the validation set(`y_val`)\n",
    "- logics: Train the model on the training set and print its accuracy and F1 scores on the training and validation sets\n",
    "- output parameters: None"
   ]
  },
  {
   "cell_type": "code",
   "execution_count": null,
   "metadata": {
    "id": "CQsYlEKjB9lO"
   },
   "outputs": [],
   "source": [
    "# Placeholder for student's code (Python code)"
   ]
  },
  {
   "cell_type": "code",
   "execution_count": null,
   "metadata": {
    "id": "gUQEa1z9B9oQ"
   },
   "outputs": [],
   "source": [
    "# Solution:\n",
    "def fit_assess_classifier(model, X_train, y_train, X_val, y_val):\n",
    "    \"\"\"Train a classifier model, print its accuracy and F1 scores on the training and validation set and return the trained model\n",
    "\n",
    "    Parameters\n",
    "    ----------\n",
    "    model: sklearn.base.BaseEstimator\n",
    "        Instantiated Sklearn model with set hyperparameters\n",
    "    X_train : Numpy Array\n",
    "        Features for the training set\n",
    "    y_train : Numpy Array\n",
    "        Target for the training set\n",
    "    X_train : Numpy Array\n",
    "        Features for the validation set\n",
    "    y_train : Numpy Array\n",
    "        Target for the validation set\n",
    "\n",
    "    Returns\n",
    "    sklearn.base.BaseEstimator\n",
    "        Trained model\n",
    "    -------\n",
    "    \"\"\"\n",
    "    model.fit(X_train, y_train)\n",
    "    assess_classifier_set(model, X_train, y_train, set_name='Training')\n",
    "    assess_classifier_set(model, X_val, y_val, set_name='Validation')\n",
    "    return model\n"
   ]
  },
  {
   "cell_type": "markdown",
   "metadata": {
    "id": "uWY8jfa2liby"
   },
   "source": [
    "**[2.6]** Add you changes to git staging area"
   ]
  },
  {
   "cell_type": "code",
   "execution_count": null,
   "metadata": {
    "id": "SFS7Delilibz"
   },
   "outputs": [],
   "source": [
    "# Placeholder for student's code (command line)"
   ]
  },
  {
   "cell_type": "code",
   "execution_count": null,
   "metadata": {
    "id": "FIDd_rCrlibz"
   },
   "outputs": [],
   "source": [
    "# Solution\n",
    "git add ."
   ]
  },
  {
   "cell_type": "markdown",
   "metadata": {
    "id": "GblrXXYnlibz"
   },
   "source": [
    "**[2.7]** Create the snapshot of your repository and add a description"
   ]
  },
  {
   "cell_type": "code",
   "execution_count": null,
   "metadata": {
    "id": "uvIt1JHtlibz"
   },
   "outputs": [],
   "source": [
    "# Placeholder for student's code (command line)"
   ]
  },
  {
   "cell_type": "code",
   "execution_count": null,
   "metadata": {
    "id": "8V33Wy93libz"
   },
   "outputs": [],
   "source": [
    "# Solution\n",
    "git commit -m \"add classifier\""
   ]
  },
  {
   "cell_type": "markdown",
   "metadata": {
    "id": "qiVFBCyQlibz"
   },
   "source": [
    "**[2.8]** Push your snapshot to Github"
   ]
  },
  {
   "cell_type": "code",
   "execution_count": null,
   "metadata": {
    "id": "gq3NKWrclibz"
   },
   "outputs": [],
   "source": [
    "# Placeholder for student's code (command line)"
   ]
  },
  {
   "cell_type": "code",
   "execution_count": null,
   "metadata": {
    "id": "hFRXmwdklibz"
   },
   "outputs": [],
   "source": [
    "# Solution\n",
    "git push"
   ]
  },
  {
   "cell_type": "markdown",
   "metadata": {
    "id": "OdZM45WfC-sj"
   },
   "source": [
    "**[2.9]** Version your package with Poetry"
   ]
  },
  {
   "cell_type": "code",
   "execution_count": null,
   "metadata": {
    "id": "yc323DrAC-y5"
   },
   "outputs": [],
   "source": [
    "# Placeholder for student's code (command line)"
   ]
  },
  {
   "cell_type": "code",
   "execution_count": null,
   "metadata": {
    "id": "N1fxBEZfC-1g"
   },
   "outputs": [],
   "source": [
    "# Solution:\n",
    "poetry version 2024.0.1.2"
   ]
  },
  {
   "cell_type": "markdown",
   "metadata": {
    "id": "7YjiwEs7DOf9"
   },
   "source": [
    "**[2.10]** Build your package with Poetry"
   ]
  },
  {
   "cell_type": "code",
   "execution_count": null,
   "metadata": {
    "id": "bTteVj5pDO4c"
   },
   "outputs": [],
   "source": [
    "# Placeholder for student's code (command line)"
   ]
  },
  {
   "cell_type": "code",
   "execution_count": null,
   "metadata": {
    "id": "GRLV_JBiDO7I"
   },
   "outputs": [],
   "source": [
    "# Solution:\n",
    "poetry build"
   ]
  },
  {
   "cell_type": "markdown",
   "metadata": {
    "id": "WHfAp14JDPQm"
   },
   "source": [
    "**[2.11]** Publish your built package to TestPypi"
   ]
  },
  {
   "cell_type": "code",
   "execution_count": null,
   "metadata": {
    "id": "qCQqFe4kDUzB"
   },
   "outputs": [],
   "source": [
    "# Placeholder for student's code (command line)"
   ]
  },
  {
   "cell_type": "code",
   "execution_count": null,
   "metadata": {
    "id": "1vUbPI48DU_I"
   },
   "outputs": [],
   "source": [
    "# Solution:\n",
    "poetry publish -r test-pypi"
   ]
  },
  {
   "cell_type": "markdown",
   "metadata": {
    "id": "_NCwQQFkU3v5"
   },
   "source": [
    "### 3.   Load and Explore Dataset"
   ]
  },
  {
   "cell_type": "markdown",
   "metadata": {
    "id": "U9nXymg9SxjE"
   },
   "source": [
    "**[3.1]** Launch magic commands to automatically reload modules"
   ]
  },
  {
   "cell_type": "code",
   "execution_count": null,
   "metadata": {
    "id": "2JdYTLK99dwr"
   },
   "outputs": [],
   "source": [
    "# Placeholder for student's code (Python code)"
   ]
  },
  {
   "cell_type": "code",
   "execution_count": 1,
   "metadata": {
    "id": "1fgUxXqsuKZl",
    "tags": []
   },
   "outputs": [],
   "source": [
    "# Solution\n",
    "%load_ext autoreload\n",
    "%autoreload 2"
   ]
  },
  {
   "cell_type": "markdown",
   "metadata": {
    "id": "xvi5M4Hb-WvD"
   },
   "source": [
    "**[3.2]** Install your custom package with pip"
   ]
  },
  {
   "cell_type": "code",
   "execution_count": null,
   "metadata": {
    "id": "smOBV3ML-XBj"
   },
   "outputs": [],
   "source": [
    "# Placeholder for student's code (Python code)"
   ]
  },
  {
   "cell_type": "code",
   "execution_count": 2,
   "metadata": {
    "id": "7dMCA6Qx-XHp",
    "tags": []
   },
   "outputs": [
    {
     "name": "stdout",
     "output_type": "stream",
     "text": [
      "Looking in indexes: https://test.pypi.org/simple/\n",
      "Collecting my-krml-studentid\n",
      "  Using cached https://test-files.pythonhosted.org/packages/52/42/cccd42db9498a27a869d8486806c3d1d35f39366cc67cfee038969da0a5c/my_krml_studentid-0.1.9-py3-none-any.whl.metadata (1.3 kB)\n",
      "Requirement already satisfied: debugpy<2.0.0,>=1.8.5 in /Users/reasmeytith/Library/Caches/pypoetry/virtualenvs/adv-mla-lab-5-MIyFIMs4-py3.11/lib/python3.11/site-packages (from my-krml-studentid) (1.8.6)\n",
      "Requirement already satisfied: pandas==2.2.2 in /Users/reasmeytith/Library/Caches/pypoetry/virtualenvs/adv-mla-lab-5-MIyFIMs4-py3.11/lib/python3.11/site-packages (from my-krml-studentid) (2.2.2)\n",
      "Requirement already satisfied: scikit-learn==1.5.1 in /Users/reasmeytith/Library/Caches/pypoetry/virtualenvs/adv-mla-lab-5-MIyFIMs4-py3.11/lib/python3.11/site-packages (from my-krml-studentid) (1.5.1)\n",
      "Requirement already satisfied: numpy>=1.23.2 in /Users/reasmeytith/Library/Caches/pypoetry/virtualenvs/adv-mla-lab-5-MIyFIMs4-py3.11/lib/python3.11/site-packages (from pandas==2.2.2->my-krml-studentid) (2.1.1)\n",
      "Requirement already satisfied: python-dateutil>=2.8.2 in /Users/reasmeytith/Library/Caches/pypoetry/virtualenvs/adv-mla-lab-5-MIyFIMs4-py3.11/lib/python3.11/site-packages (from pandas==2.2.2->my-krml-studentid) (2.9.0.post0)\n",
      "Requirement already satisfied: pytz>=2020.1 in /Users/reasmeytith/Library/Caches/pypoetry/virtualenvs/adv-mla-lab-5-MIyFIMs4-py3.11/lib/python3.11/site-packages (from pandas==2.2.2->my-krml-studentid) (2024.2)\n",
      "Requirement already satisfied: tzdata>=2022.7 in /Users/reasmeytith/Library/Caches/pypoetry/virtualenvs/adv-mla-lab-5-MIyFIMs4-py3.11/lib/python3.11/site-packages (from pandas==2.2.2->my-krml-studentid) (2024.2)\n",
      "Requirement already satisfied: scipy>=1.6.0 in /Users/reasmeytith/Library/Caches/pypoetry/virtualenvs/adv-mla-lab-5-MIyFIMs4-py3.11/lib/python3.11/site-packages (from scikit-learn==1.5.1->my-krml-studentid) (1.14.1)\n",
      "Requirement already satisfied: joblib>=1.2.0 in /Users/reasmeytith/Library/Caches/pypoetry/virtualenvs/adv-mla-lab-5-MIyFIMs4-py3.11/lib/python3.11/site-packages (from scikit-learn==1.5.1->my-krml-studentid) (1.4.2)\n",
      "Requirement already satisfied: threadpoolctl>=3.1.0 in /Users/reasmeytith/Library/Caches/pypoetry/virtualenvs/adv-mla-lab-5-MIyFIMs4-py3.11/lib/python3.11/site-packages (from scikit-learn==1.5.1->my-krml-studentid) (3.5.0)\n",
      "Requirement already satisfied: six>=1.5 in /Users/reasmeytith/Library/Caches/pypoetry/virtualenvs/adv-mla-lab-5-MIyFIMs4-py3.11/lib/python3.11/site-packages (from python-dateutil>=2.8.2->pandas==2.2.2->my-krml-studentid) (1.16.0)\n",
      "Using cached https://test-files.pythonhosted.org/packages/52/42/cccd42db9498a27a869d8486806c3d1d35f39366cc67cfee038969da0a5c/my_krml_studentid-0.1.9-py3-none-any.whl (5.5 kB)\n",
      "Installing collected packages: my-krml-studentid\n",
      "Successfully installed my-krml-studentid-0.1.9\n"
     ]
    }
   ],
   "source": [
    "# Solution\n",
    "! pip install -i https://test.pypi.org/simple/ my-krml-studentid"
   ]
  },
  {
   "cell_type": "markdown",
   "metadata": {
    "id": "JAIO_Y5Z9_Ay"
   },
   "source": [
    "**[3.3]** Import the pandas and numpy packages"
   ]
  },
  {
   "cell_type": "code",
   "execution_count": null,
   "metadata": {
    "id": "SiroVmhn9_HP"
   },
   "outputs": [],
   "source": [
    "# Placeholder for student's code (Python code)"
   ]
  },
  {
   "cell_type": "code",
   "execution_count": 3,
   "metadata": {
    "id": "2VRE9JYD9_Kk",
    "tags": []
   },
   "outputs": [],
   "source": [
    "# Solution\n",
    "import pandas as pd\n",
    "import numpy as np"
   ]
  },
  {
   "cell_type": "markdown",
   "metadata": {
    "id": "R-Zy6Oq8pkuB"
   },
   "source": [
    "**[3.4]** Load the dataset into a dataframe called `df`\n"
   ]
  },
  {
   "cell_type": "code",
   "execution_count": 4,
   "metadata": {
    "id": "ZresJIasqpgH"
   },
   "outputs": [],
   "source": [
    "# Placeholder for student's code (Python code)"
   ]
  },
  {
   "cell_type": "code",
   "execution_count": 5,
   "metadata": {
    "id": "E0BtGR2O1nFY",
    "tags": []
   },
   "outputs": [
    {
     "name": "stderr",
     "output_type": "stream",
     "text": [
      "/var/folders/6w/p9g2p0mj6c9dl_7mkq2m9n740000gn/T/ipykernel_4817/1843724163.py:2: DtypeWarning: Columns (7) have mixed types. Specify dtype option on import or set low_memory=False.\n",
      "  df = pd.read_csv('../data/raw/yellow_tripdata_2020-04.csv')\n"
     ]
    }
   ],
   "source": [
    "# Solution:\n",
    "df = pd.read_csv('../data/raw/yellow_tripdata_2020-04.csv')"
   ]
  },
  {
   "cell_type": "markdown",
   "metadata": {
    "id": "CLyMcoNCsx2k"
   },
   "source": [
    "**[3.5]** Display the first 5 rows of `df`"
   ]
  },
  {
   "cell_type": "code",
   "execution_count": 6,
   "metadata": {
    "id": "CJKSOaRPsbuD"
   },
   "outputs": [],
   "source": [
    "# Placeholder for student's code (Python code)"
   ]
  },
  {
   "cell_type": "code",
   "execution_count": 7,
   "metadata": {
    "id": "xvnbhiPhs0ZP",
    "tags": []
   },
   "outputs": [
    {
     "data": {
      "text/html": [
       "<div>\n",
       "<style scoped>\n",
       "    .dataframe tbody tr th:only-of-type {\n",
       "        vertical-align: middle;\n",
       "    }\n",
       "\n",
       "    .dataframe tbody tr th {\n",
       "        vertical-align: top;\n",
       "    }\n",
       "\n",
       "    .dataframe thead th {\n",
       "        text-align: right;\n",
       "    }\n",
       "</style>\n",
       "<table border=\"1\" class=\"dataframe\">\n",
       "  <thead>\n",
       "    <tr style=\"text-align: right;\">\n",
       "      <th></th>\n",
       "      <th>Unnamed: 0</th>\n",
       "      <th>VendorID</th>\n",
       "      <th>tpep_pickup_datetime</th>\n",
       "      <th>tpep_dropoff_datetime</th>\n",
       "      <th>passenger_count</th>\n",
       "      <th>trip_distance</th>\n",
       "      <th>RatecodeID</th>\n",
       "      <th>store_and_fwd_flag</th>\n",
       "      <th>PULocationID</th>\n",
       "      <th>DOLocationID</th>\n",
       "      <th>payment_type</th>\n",
       "      <th>fare_amount</th>\n",
       "      <th>extra</th>\n",
       "      <th>mta_tax</th>\n",
       "      <th>tip_amount</th>\n",
       "      <th>tolls_amount</th>\n",
       "      <th>improvement_surcharge</th>\n",
       "      <th>total_amount</th>\n",
       "      <th>congestion_surcharge</th>\n",
       "    </tr>\n",
       "  </thead>\n",
       "  <tbody>\n",
       "    <tr>\n",
       "      <th>0</th>\n",
       "      <td>0</td>\n",
       "      <td>1.0</td>\n",
       "      <td>2020-04-01 00:41:22</td>\n",
       "      <td>2020-04-01 01:01:53</td>\n",
       "      <td>1.0</td>\n",
       "      <td>1.20</td>\n",
       "      <td>1.0</td>\n",
       "      <td>N</td>\n",
       "      <td>41</td>\n",
       "      <td>24</td>\n",
       "      <td>2.0</td>\n",
       "      <td>5.5</td>\n",
       "      <td>0.5</td>\n",
       "      <td>0.5</td>\n",
       "      <td>0.00</td>\n",
       "      <td>0.0</td>\n",
       "      <td>0.3</td>\n",
       "      <td>6.80</td>\n",
       "      <td>0.0</td>\n",
       "    </tr>\n",
       "    <tr>\n",
       "      <th>1</th>\n",
       "      <td>1</td>\n",
       "      <td>1.0</td>\n",
       "      <td>2020-04-01 00:56:00</td>\n",
       "      <td>2020-04-01 01:09:25</td>\n",
       "      <td>1.0</td>\n",
       "      <td>3.40</td>\n",
       "      <td>1.0</td>\n",
       "      <td>N</td>\n",
       "      <td>95</td>\n",
       "      <td>197</td>\n",
       "      <td>1.0</td>\n",
       "      <td>12.5</td>\n",
       "      <td>0.5</td>\n",
       "      <td>0.5</td>\n",
       "      <td>2.75</td>\n",
       "      <td>0.0</td>\n",
       "      <td>0.3</td>\n",
       "      <td>16.55</td>\n",
       "      <td>0.0</td>\n",
       "    </tr>\n",
       "    <tr>\n",
       "      <th>2</th>\n",
       "      <td>2</td>\n",
       "      <td>1.0</td>\n",
       "      <td>2020-04-01 00:00:26</td>\n",
       "      <td>2020-04-01 00:09:25</td>\n",
       "      <td>1.0</td>\n",
       "      <td>2.80</td>\n",
       "      <td>1.0</td>\n",
       "      <td>N</td>\n",
       "      <td>237</td>\n",
       "      <td>137</td>\n",
       "      <td>1.0</td>\n",
       "      <td>10.0</td>\n",
       "      <td>3.0</td>\n",
       "      <td>0.5</td>\n",
       "      <td>1.00</td>\n",
       "      <td>0.0</td>\n",
       "      <td>0.3</td>\n",
       "      <td>14.80</td>\n",
       "      <td>2.5</td>\n",
       "    </tr>\n",
       "    <tr>\n",
       "      <th>3</th>\n",
       "      <td>3</td>\n",
       "      <td>1.0</td>\n",
       "      <td>2020-04-01 00:24:38</td>\n",
       "      <td>2020-04-01 00:34:38</td>\n",
       "      <td>0.0</td>\n",
       "      <td>2.60</td>\n",
       "      <td>1.0</td>\n",
       "      <td>N</td>\n",
       "      <td>68</td>\n",
       "      <td>142</td>\n",
       "      <td>1.0</td>\n",
       "      <td>10.0</td>\n",
       "      <td>3.0</td>\n",
       "      <td>0.5</td>\n",
       "      <td>1.00</td>\n",
       "      <td>0.0</td>\n",
       "      <td>0.3</td>\n",
       "      <td>14.80</td>\n",
       "      <td>2.5</td>\n",
       "    </tr>\n",
       "    <tr>\n",
       "      <th>4</th>\n",
       "      <td>4</td>\n",
       "      <td>2.0</td>\n",
       "      <td>2020-04-01 00:13:24</td>\n",
       "      <td>2020-04-01 00:18:26</td>\n",
       "      <td>1.0</td>\n",
       "      <td>1.44</td>\n",
       "      <td>1.0</td>\n",
       "      <td>Y</td>\n",
       "      <td>263</td>\n",
       "      <td>74</td>\n",
       "      <td>1.0</td>\n",
       "      <td>6.5</td>\n",
       "      <td>0.5</td>\n",
       "      <td>0.5</td>\n",
       "      <td>3.00</td>\n",
       "      <td>0.0</td>\n",
       "      <td>0.3</td>\n",
       "      <td>13.30</td>\n",
       "      <td>2.5</td>\n",
       "    </tr>\n",
       "  </tbody>\n",
       "</table>\n",
       "</div>"
      ],
      "text/plain": [
       "   Unnamed: 0  VendorID tpep_pickup_datetime tpep_dropoff_datetime  \\\n",
       "0           0       1.0  2020-04-01 00:41:22   2020-04-01 01:01:53   \n",
       "1           1       1.0  2020-04-01 00:56:00   2020-04-01 01:09:25   \n",
       "2           2       1.0  2020-04-01 00:00:26   2020-04-01 00:09:25   \n",
       "3           3       1.0  2020-04-01 00:24:38   2020-04-01 00:34:38   \n",
       "4           4       2.0  2020-04-01 00:13:24   2020-04-01 00:18:26   \n",
       "\n",
       "   passenger_count  trip_distance  RatecodeID store_and_fwd_flag  \\\n",
       "0              1.0           1.20         1.0                  N   \n",
       "1              1.0           3.40         1.0                  N   \n",
       "2              1.0           2.80         1.0                  N   \n",
       "3              0.0           2.60         1.0                  N   \n",
       "4              1.0           1.44         1.0                  Y   \n",
       "\n",
       "   PULocationID  DOLocationID  payment_type  fare_amount  extra  mta_tax  \\\n",
       "0            41            24           2.0          5.5    0.5      0.5   \n",
       "1            95           197           1.0         12.5    0.5      0.5   \n",
       "2           237           137           1.0         10.0    3.0      0.5   \n",
       "3            68           142           1.0         10.0    3.0      0.5   \n",
       "4           263            74           1.0          6.5    0.5      0.5   \n",
       "\n",
       "   tip_amount  tolls_amount  improvement_surcharge  total_amount  \\\n",
       "0        0.00           0.0                    0.3          6.80   \n",
       "1        2.75           0.0                    0.3         16.55   \n",
       "2        1.00           0.0                    0.3         14.80   \n",
       "3        1.00           0.0                    0.3         14.80   \n",
       "4        3.00           0.0                    0.3         13.30   \n",
       "\n",
       "   congestion_surcharge  \n",
       "0                   0.0  \n",
       "1                   0.0  \n",
       "2                   2.5  \n",
       "3                   2.5  \n",
       "4                   2.5  "
      ]
     },
     "execution_count": 7,
     "metadata": {},
     "output_type": "execute_result"
    }
   ],
   "source": [
    "# Solution\n",
    "df.head()"
   ]
  },
  {
   "cell_type": "markdown",
   "metadata": {
    "id": "gQgeYjQDs12m"
   },
   "source": [
    "**[3.6]** Display the dimensions of `df`"
   ]
  },
  {
   "cell_type": "code",
   "execution_count": 8,
   "metadata": {
    "id": "dOA7T87hs19l"
   },
   "outputs": [],
   "source": [
    "# Placeholder for student's code (Python code)"
   ]
  },
  {
   "cell_type": "code",
   "execution_count": 9,
   "metadata": {
    "id": "Dg_89DlAs1_w",
    "tags": []
   },
   "outputs": [
    {
     "data": {
      "text/plain": [
       "(237993, 19)"
      ]
     },
     "execution_count": 9,
     "metadata": {},
     "output_type": "execute_result"
    }
   ],
   "source": [
    "# Solution\n",
    "df.shape"
   ]
  },
  {
   "cell_type": "markdown",
   "metadata": {
    "id": "xyle1PCws7B0"
   },
   "source": [
    "**[3.7]** Display the summary (info) of `df`"
   ]
  },
  {
   "cell_type": "code",
   "execution_count": 10,
   "metadata": {
    "id": "RrNAGFzxs7JU"
   },
   "outputs": [],
   "source": [
    "# Placeholder for student's code (Python code)"
   ]
  },
  {
   "cell_type": "code",
   "execution_count": 11,
   "metadata": {
    "id": "l1msvlh7s7Lt",
    "tags": []
   },
   "outputs": [
    {
     "name": "stdout",
     "output_type": "stream",
     "text": [
      "<class 'pandas.core.frame.DataFrame'>\n",
      "RangeIndex: 237993 entries, 0 to 237992\n",
      "Data columns (total 19 columns):\n",
      " #   Column                 Non-Null Count   Dtype  \n",
      "---  ------                 --------------   -----  \n",
      " 0   Unnamed: 0             237993 non-null  int64  \n",
      " 1   VendorID               218480 non-null  float64\n",
      " 2   tpep_pickup_datetime   237993 non-null  object \n",
      " 3   tpep_dropoff_datetime  237993 non-null  object \n",
      " 4   passenger_count        218480 non-null  float64\n",
      " 5   trip_distance          237993 non-null  float64\n",
      " 6   RatecodeID             218480 non-null  float64\n",
      " 7   store_and_fwd_flag     218480 non-null  object \n",
      " 8   PULocationID           237993 non-null  int64  \n",
      " 9   DOLocationID           237993 non-null  int64  \n",
      " 10  payment_type           218480 non-null  float64\n",
      " 11  fare_amount            237993 non-null  float64\n",
      " 12  extra                  237993 non-null  float64\n",
      " 13  mta_tax                237993 non-null  float64\n",
      " 14  tip_amount             237993 non-null  float64\n",
      " 15  tolls_amount           237993 non-null  float64\n",
      " 16  improvement_surcharge  237993 non-null  float64\n",
      " 17  total_amount           237993 non-null  float64\n",
      " 18  congestion_surcharge   237993 non-null  float64\n",
      "dtypes: float64(13), int64(3), object(3)\n",
      "memory usage: 34.5+ MB\n"
     ]
    }
   ],
   "source": [
    "# Solution\n",
    "df.info()"
   ]
  },
  {
   "cell_type": "markdown",
   "metadata": {
    "id": "eWLgqm2YtAgP"
   },
   "source": [
    "**[3.8]** Display the descriptive statistics of `df`\n"
   ]
  },
  {
   "cell_type": "code",
   "execution_count": 12,
   "metadata": {
    "id": "2ZnOCCtjtAnj"
   },
   "outputs": [],
   "source": [
    "# Placeholder for student's code (Python code)"
   ]
  },
  {
   "cell_type": "code",
   "execution_count": 13,
   "metadata": {
    "id": "FQLSaoXltAp-",
    "tags": []
   },
   "outputs": [
    {
     "data": {
      "text/html": [
       "<div>\n",
       "<style scoped>\n",
       "    .dataframe tbody tr th:only-of-type {\n",
       "        vertical-align: middle;\n",
       "    }\n",
       "\n",
       "    .dataframe tbody tr th {\n",
       "        vertical-align: top;\n",
       "    }\n",
       "\n",
       "    .dataframe thead th {\n",
       "        text-align: right;\n",
       "    }\n",
       "</style>\n",
       "<table border=\"1\" class=\"dataframe\">\n",
       "  <thead>\n",
       "    <tr style=\"text-align: right;\">\n",
       "      <th></th>\n",
       "      <th>Unnamed: 0</th>\n",
       "      <th>VendorID</th>\n",
       "      <th>passenger_count</th>\n",
       "      <th>trip_distance</th>\n",
       "      <th>RatecodeID</th>\n",
       "      <th>PULocationID</th>\n",
       "      <th>DOLocationID</th>\n",
       "      <th>payment_type</th>\n",
       "      <th>fare_amount</th>\n",
       "      <th>extra</th>\n",
       "      <th>mta_tax</th>\n",
       "      <th>tip_amount</th>\n",
       "      <th>tolls_amount</th>\n",
       "      <th>improvement_surcharge</th>\n",
       "      <th>total_amount</th>\n",
       "      <th>congestion_surcharge</th>\n",
       "    </tr>\n",
       "  </thead>\n",
       "  <tbody>\n",
       "    <tr>\n",
       "      <th>count</th>\n",
       "      <td>237993.000000</td>\n",
       "      <td>218480.000000</td>\n",
       "      <td>218480.000000</td>\n",
       "      <td>237993.000000</td>\n",
       "      <td>218480.000000</td>\n",
       "      <td>237993.000000</td>\n",
       "      <td>237993.000000</td>\n",
       "      <td>218480.000000</td>\n",
       "      <td>237993.000000</td>\n",
       "      <td>237993.000000</td>\n",
       "      <td>237993.000000</td>\n",
       "      <td>237993.000000</td>\n",
       "      <td>237993.000000</td>\n",
       "      <td>237993.000000</td>\n",
       "      <td>237993.000000</td>\n",
       "      <td>237993.000000</td>\n",
       "    </tr>\n",
       "    <tr>\n",
       "      <th>mean</th>\n",
       "      <td>118996.000000</td>\n",
       "      <td>1.564949</td>\n",
       "      <td>1.296764</td>\n",
       "      <td>4.039981</td>\n",
       "      <td>1.034081</td>\n",
       "      <td>154.908422</td>\n",
       "      <td>150.361414</td>\n",
       "      <td>1.425673</td>\n",
       "      <td>11.666027</td>\n",
       "      <td>1.066739</td>\n",
       "      <td>0.487000</td>\n",
       "      <td>1.530229</td>\n",
       "      <td>0.220504</td>\n",
       "      <td>0.296331</td>\n",
       "      <td>16.408621</td>\n",
       "      <td>1.927536</td>\n",
       "    </tr>\n",
       "    <tr>\n",
       "      <th>std</th>\n",
       "      <td>68702.805645</td>\n",
       "      <td>0.495765</td>\n",
       "      <td>0.983595</td>\n",
       "      <td>294.879052</td>\n",
       "      <td>0.865044</td>\n",
       "      <td>70.749496</td>\n",
       "      <td>74.474108</td>\n",
       "      <td>0.555915</td>\n",
       "      <td>11.728767</td>\n",
       "      <td>1.260170</td>\n",
       "      <td>0.094993</td>\n",
       "      <td>2.295523</td>\n",
       "      <td>1.342351</td>\n",
       "      <td>0.045429</td>\n",
       "      <td>13.155858</td>\n",
       "      <td>1.072839</td>\n",
       "    </tr>\n",
       "    <tr>\n",
       "      <th>min</th>\n",
       "      <td>0.000000</td>\n",
       "      <td>1.000000</td>\n",
       "      <td>0.000000</td>\n",
       "      <td>0.000000</td>\n",
       "      <td>1.000000</td>\n",
       "      <td>1.000000</td>\n",
       "      <td>1.000000</td>\n",
       "      <td>1.000000</td>\n",
       "      <td>-118.000000</td>\n",
       "      <td>-4.500000</td>\n",
       "      <td>-0.500000</td>\n",
       "      <td>-5.000000</td>\n",
       "      <td>-19.870000</td>\n",
       "      <td>-0.300000</td>\n",
       "      <td>-138.170000</td>\n",
       "      <td>-2.500000</td>\n",
       "    </tr>\n",
       "    <tr>\n",
       "      <th>25%</th>\n",
       "      <td>59498.000000</td>\n",
       "      <td>1.000000</td>\n",
       "      <td>1.000000</td>\n",
       "      <td>0.950000</td>\n",
       "      <td>1.000000</td>\n",
       "      <td>97.000000</td>\n",
       "      <td>75.000000</td>\n",
       "      <td>1.000000</td>\n",
       "      <td>5.500000</td>\n",
       "      <td>0.000000</td>\n",
       "      <td>0.500000</td>\n",
       "      <td>0.000000</td>\n",
       "      <td>0.000000</td>\n",
       "      <td>0.300000</td>\n",
       "      <td>9.800000</td>\n",
       "      <td>2.500000</td>\n",
       "    </tr>\n",
       "    <tr>\n",
       "      <th>50%</th>\n",
       "      <td>118996.000000</td>\n",
       "      <td>2.000000</td>\n",
       "      <td>1.000000</td>\n",
       "      <td>1.740000</td>\n",
       "      <td>1.000000</td>\n",
       "      <td>143.000000</td>\n",
       "      <td>143.000000</td>\n",
       "      <td>1.000000</td>\n",
       "      <td>8.000000</td>\n",
       "      <td>0.500000</td>\n",
       "      <td>0.500000</td>\n",
       "      <td>1.000000</td>\n",
       "      <td>0.000000</td>\n",
       "      <td>0.300000</td>\n",
       "      <td>12.800000</td>\n",
       "      <td>2.500000</td>\n",
       "    </tr>\n",
       "    <tr>\n",
       "      <th>75%</th>\n",
       "      <td>178494.000000</td>\n",
       "      <td>2.000000</td>\n",
       "      <td>1.000000</td>\n",
       "      <td>3.400000</td>\n",
       "      <td>1.000000</td>\n",
       "      <td>234.000000</td>\n",
       "      <td>233.000000</td>\n",
       "      <td>2.000000</td>\n",
       "      <td>13.000000</td>\n",
       "      <td>2.500000</td>\n",
       "      <td>0.500000</td>\n",
       "      <td>2.460000</td>\n",
       "      <td>0.000000</td>\n",
       "      <td>0.300000</td>\n",
       "      <td>18.360000</td>\n",
       "      <td>2.500000</td>\n",
       "    </tr>\n",
       "    <tr>\n",
       "      <th>max</th>\n",
       "      <td>237992.000000</td>\n",
       "      <td>2.000000</td>\n",
       "      <td>7.000000</td>\n",
       "      <td>126501.770000</td>\n",
       "      <td>99.000000</td>\n",
       "      <td>265.000000</td>\n",
       "      <td>265.000000</td>\n",
       "      <td>4.000000</td>\n",
       "      <td>903.020000</td>\n",
       "      <td>7.000000</td>\n",
       "      <td>1.100000</td>\n",
       "      <td>117.280000</td>\n",
       "      <td>98.750000</td>\n",
       "      <td>0.300000</td>\n",
       "      <td>903.320000</td>\n",
       "      <td>2.500000</td>\n",
       "    </tr>\n",
       "  </tbody>\n",
       "</table>\n",
       "</div>"
      ],
      "text/plain": [
       "          Unnamed: 0       VendorID  passenger_count  trip_distance  \\\n",
       "count  237993.000000  218480.000000    218480.000000  237993.000000   \n",
       "mean   118996.000000       1.564949         1.296764       4.039981   \n",
       "std     68702.805645       0.495765         0.983595     294.879052   \n",
       "min         0.000000       1.000000         0.000000       0.000000   \n",
       "25%     59498.000000       1.000000         1.000000       0.950000   \n",
       "50%    118996.000000       2.000000         1.000000       1.740000   \n",
       "75%    178494.000000       2.000000         1.000000       3.400000   \n",
       "max    237992.000000       2.000000         7.000000  126501.770000   \n",
       "\n",
       "          RatecodeID   PULocationID   DOLocationID   payment_type  \\\n",
       "count  218480.000000  237993.000000  237993.000000  218480.000000   \n",
       "mean        1.034081     154.908422     150.361414       1.425673   \n",
       "std         0.865044      70.749496      74.474108       0.555915   \n",
       "min         1.000000       1.000000       1.000000       1.000000   \n",
       "25%         1.000000      97.000000      75.000000       1.000000   \n",
       "50%         1.000000     143.000000     143.000000       1.000000   \n",
       "75%         1.000000     234.000000     233.000000       2.000000   \n",
       "max        99.000000     265.000000     265.000000       4.000000   \n",
       "\n",
       "         fare_amount          extra        mta_tax     tip_amount  \\\n",
       "count  237993.000000  237993.000000  237993.000000  237993.000000   \n",
       "mean       11.666027       1.066739       0.487000       1.530229   \n",
       "std        11.728767       1.260170       0.094993       2.295523   \n",
       "min      -118.000000      -4.500000      -0.500000      -5.000000   \n",
       "25%         5.500000       0.000000       0.500000       0.000000   \n",
       "50%         8.000000       0.500000       0.500000       1.000000   \n",
       "75%        13.000000       2.500000       0.500000       2.460000   \n",
       "max       903.020000       7.000000       1.100000     117.280000   \n",
       "\n",
       "        tolls_amount  improvement_surcharge   total_amount  \\\n",
       "count  237993.000000          237993.000000  237993.000000   \n",
       "mean        0.220504               0.296331      16.408621   \n",
       "std         1.342351               0.045429      13.155858   \n",
       "min       -19.870000              -0.300000    -138.170000   \n",
       "25%         0.000000               0.300000       9.800000   \n",
       "50%         0.000000               0.300000      12.800000   \n",
       "75%         0.000000               0.300000      18.360000   \n",
       "max        98.750000               0.300000     903.320000   \n",
       "\n",
       "       congestion_surcharge  \n",
       "count         237993.000000  \n",
       "mean               1.927536  \n",
       "std                1.072839  \n",
       "min               -2.500000  \n",
       "25%                2.500000  \n",
       "50%                2.500000  \n",
       "75%                2.500000  \n",
       "max                2.500000  "
      ]
     },
     "execution_count": 13,
     "metadata": {},
     "output_type": "execute_result"
    }
   ],
   "source": [
    "# Solution\n",
    "df.describe()"
   ]
  },
  {
   "cell_type": "markdown",
   "metadata": {
    "id": "miQ6SiKlscLx"
   },
   "source": [
    "### 4. Prepare Data"
   ]
  },
  {
   "cell_type": "markdown",
   "metadata": {
    "id": "NtuF1V6ctwn-"
   },
   "source": [
    "**[4.1]** Create a copy of `df` and save it into a variable called `df_cleaned`"
   ]
  },
  {
   "cell_type": "code",
   "execution_count": 14,
   "metadata": {
    "id": "Zqaz1C7DtwuU"
   },
   "outputs": [],
   "source": [
    "# Placeholder for student's code (Python code)"
   ]
  },
  {
   "cell_type": "code",
   "execution_count": 15,
   "metadata": {
    "id": "HrXR7NCLtwxB",
    "tags": []
   },
   "outputs": [],
   "source": [
    "# Solution\n",
    "df_cleaned = df.copy()"
   ]
  },
  {
   "cell_type": "markdown",
   "metadata": {
    "id": "X7DCMLV6TBjr"
   },
   "source": [
    "**[4.2]** Import the function `convert_to_date` from your custom package"
   ]
  },
  {
   "cell_type": "code",
   "execution_count": 16,
   "metadata": {
    "id": "KF8jX4Y7TBtB"
   },
   "outputs": [],
   "source": [
    "# Placeholder for student's code (Python code)"
   ]
  },
  {
   "cell_type": "code",
   "execution_count": 17,
   "metadata": {
    "id": "ICjW0_-4TBvu",
    "tags": []
   },
   "outputs": [],
   "source": [
    "# Solution\n",
    "from my_krml_studentid.features.dates import convert_to_date"
   ]
  },
  {
   "cell_type": "markdown",
   "metadata": {
    "id": "yvEl7w7GTWfL"
   },
   "source": [
    "**[4.3]** Convert the column `tpep_pickup_datetime`, `tpep_dropoff_datetime` with your function `convert_to_date`"
   ]
  },
  {
   "cell_type": "code",
   "execution_count": 18,
   "metadata": {
    "id": "RNU9-pDNTWnA"
   },
   "outputs": [],
   "source": [
    "# Placeholder for student's code (Python code)"
   ]
  },
  {
   "cell_type": "code",
   "execution_count": 19,
   "metadata": {
    "id": "Xuo9WuYhTWr4"
   },
   "outputs": [],
   "source": [
    "# Solution\n",
    "df_cleaned = convert_to_date(df_cleaned, ['tpep_pickup_datetime', 'tpep_dropoff_datetime'])"
   ]
  },
  {
   "cell_type": "markdown",
   "metadata": {
    "id": "m1RrTCBRDybQ"
   },
   "source": [
    "**[4.4]** Create a new column `trip_duration` that will corresponds to the diuration of the trip in seconds (difference between `tpep_pickup_datetime` and `tpep_dropoff_datetime`)"
   ]
  },
  {
   "cell_type": "code",
   "execution_count": 20,
   "metadata": {
    "id": "wtYjKp_1DyiT"
   },
   "outputs": [],
   "source": [
    "# Placeholder for student's code (Python code)"
   ]
  },
  {
   "cell_type": "code",
   "execution_count": 21,
   "metadata": {
    "id": "aezRs9S3Dyl0"
   },
   "outputs": [],
   "source": [
    "# Solution\n",
    "df_cleaned['trip_duration'] = (df_cleaned['tpep_dropoff_datetime'] - df_cleaned['tpep_pickup_datetime']).dt.total_seconds()"
   ]
  },
  {
   "cell_type": "markdown",
   "metadata": {
    "id": "5pKaCxasERAt"
   },
   "source": [
    "**[4.5]** Convert the `trip_duration` column into 5 different bins with [0, 300, 600, 1800, 300000]"
   ]
  },
  {
   "cell_type": "code",
   "execution_count": 22,
   "metadata": {
    "id": "QRq0VREg9htV"
   },
   "outputs": [],
   "source": [
    "# Placeholder for student's code (Python code)"
   ]
  },
  {
   "cell_type": "code",
   "execution_count": 23,
   "metadata": {
    "id": "yDwCmIXvERJO"
   },
   "outputs": [],
   "source": [
    "# Solution\n",
    "df_cleaned['trip_duration'] = pd.cut(df_cleaned['trip_duration'], bins=[-1, 300, 600, 1800, 300000], labels=[0, 1, 2, 3])"
   ]
  },
  {
   "cell_type": "markdown",
   "metadata": {
    "id": "w2v1vLMWTofp"
   },
   "source": [
    "**[4.6]** Extract the month component from `tpep_pickup_datetime` and save the results in the column `tpep_pickup_dayofmonth`"
   ]
  },
  {
   "cell_type": "code",
   "execution_count": 24,
   "metadata": {
    "id": "BcTo7drqTom4"
   },
   "outputs": [],
   "source": [
    "# Placeholder for student's code (Python code)"
   ]
  },
  {
   "cell_type": "code",
   "execution_count": 25,
   "metadata": {
    "id": "dfUpbRYSTopS"
   },
   "outputs": [],
   "source": [
    "# Solution\n",
    "df_cleaned['tpep_pickup_dayofmonth'] = df_cleaned['tpep_pickup_datetime'].dt.day"
   ]
  },
  {
   "cell_type": "markdown",
   "metadata": {
    "id": "lt8YYcHuTsDs"
   },
   "source": [
    "**[4.7]** Extract the hour component from `tpep_pickup_datetime` and save the results in the column `tpep_pickup_hourofday`"
   ]
  },
  {
   "cell_type": "code",
   "execution_count": 26,
   "metadata": {
    "id": "0Fs5Lt8jTsLK"
   },
   "outputs": [],
   "source": [
    "# Placeholder for student's code (Python code)"
   ]
  },
  {
   "cell_type": "code",
   "execution_count": 27,
   "metadata": {
    "id": "z6isEtGBTsNz"
   },
   "outputs": [],
   "source": [
    "# Solution\n",
    "df_cleaned['tpep_pickup_hourofday'] = df_cleaned['tpep_pickup_datetime'].dt.hour"
   ]
  },
  {
   "cell_type": "markdown",
   "metadata": {
    "id": "ruXvMIbwTt8E"
   },
   "source": [
    "**[4.8]** Extract the day of week component from `tpep_pickup_datetime` and save the results in the column `tpep_pickup_dayofweek`"
   ]
  },
  {
   "cell_type": "code",
   "execution_count": 28,
   "metadata": {
    "id": "fz6_BQaLTuEC"
   },
   "outputs": [],
   "source": [
    "# Placeholder for student's code (Python code)"
   ]
  },
  {
   "cell_type": "code",
   "execution_count": 29,
   "metadata": {
    "id": "kDpsPAW0TuGg"
   },
   "outputs": [],
   "source": [
    "# Solution\n",
    "df_cleaned['tpep_pickup_dayofweek'] = df_cleaned['tpep_pickup_datetime'].dt.dayofweek"
   ]
  },
  {
   "cell_type": "markdown",
   "metadata": {
    "id": "qFGEj92zZKUX"
   },
   "source": [
    "**[4.9]** Perform One-Hot encoding on the categorical features (`VendorID`, `RatecodeID`, `store_and_fwd_flag`)"
   ]
  },
  {
   "cell_type": "code",
   "execution_count": 30,
   "metadata": {
    "id": "hiwxa2PLZKb6"
   },
   "outputs": [],
   "source": [
    "# Placeholder for student's code (Python code)"
   ]
  },
  {
   "cell_type": "code",
   "execution_count": 31,
   "metadata": {
    "id": "HMSXXBBOZKfP"
   },
   "outputs": [],
   "source": [
    "# Solution\n",
    "df_cleaned = pd.get_dummies(df_cleaned, columns=['VendorID', 'RatecodeID', 'store_and_fwd_flag'])"
   ]
  },
  {
   "cell_type": "markdown",
   "metadata": {
    "id": "DJSHphplGgjd"
   },
   "source": [
    "**[4.10]** Drop the columns `tpep_pickup_datetime`, `tpep_dropoff_datetime`, `PULocationID`, `DOLocationID`"
   ]
  },
  {
   "cell_type": "code",
   "execution_count": 32,
   "metadata": {
    "id": "y6_edJpBGgpk"
   },
   "outputs": [],
   "source": [
    "# Placeholder for student's code (Python code)"
   ]
  },
  {
   "cell_type": "code",
   "execution_count": 33,
   "metadata": {
    "id": "B4p4isj8Ggr4"
   },
   "outputs": [],
   "source": [
    "# Solution\n",
    "df_cleaned.drop(['tpep_pickup_datetime', 'tpep_dropoff_datetime', 'PULocationID', 'DOLocationID'], axis=1, inplace=True)"
   ]
  },
  {
   "cell_type": "markdown",
   "metadata": {
    "id": "sXQCEL7aG0jp"
   },
   "source": [
    "**[4.11]** Save the prepared dataframe in the `data/interim` folder"
   ]
  },
  {
   "cell_type": "code",
   "execution_count": 34,
   "metadata": {
    "id": "-WchTrcJG0qG"
   },
   "outputs": [],
   "source": [
    "# Placeholder for student's code (Python code)"
   ]
  },
  {
   "cell_type": "code",
   "execution_count": 35,
   "metadata": {
    "id": "yFkJXP3oG02H"
   },
   "outputs": [],
   "source": [
    "# Solution\n",
    "df_cleaned.to_csv('../data/interim/yellow_tripdata_2020-04_prepared.csv', index=False)"
   ]
  },
  {
   "cell_type": "markdown",
   "metadata": {
    "id": "N8MNBrC4Zgz6"
   },
   "source": [
    "### 5. Split Dataset"
   ]
  },
  {
   "cell_type": "markdown",
   "metadata": {
    "id": "sJNZfvA4dJ9X"
   },
   "source": [
    "**[5.1]** Import the function `split_sets_random` from your custom package and split the data into several sets as Numpy arrays"
   ]
  },
  {
   "cell_type": "code",
   "execution_count": 36,
   "metadata": {
    "id": "Rdui0TivdKGE"
   },
   "outputs": [],
   "source": [
    "# Placeholder for student's code (Python code)"
   ]
  },
  {
   "cell_type": "code",
   "execution_count": 37,
   "metadata": {
    "id": "fev4FWAYdU1G"
   },
   "outputs": [],
   "source": [
    "# Solution\n",
    "from my_krml_studentid.data.sets import pop_target, split_sets_random\n",
    "\n",
    "features, target = pop_target(df_cleaned, target_col='trip_duration')\n",
    "X_train, y_train, X_val, y_val, X_test, y_test = split_sets_random(features, target, test_ratio=0.2)"
   ]
  },
  {
   "cell_type": "markdown",
   "metadata": {
    "id": "4z3CpwGbd4Fi"
   },
   "source": [
    "**[5.2]** Import the function `save_sets` from your custom package and save the sets into the folder `data/processed`"
   ]
  },
  {
   "cell_type": "code",
   "execution_count": null,
   "metadata": {
    "id": "aNuLNsVyd4M2"
   },
   "outputs": [],
   "source": [
    "# Placeholder for student's code (Python code)"
   ]
  },
  {
   "cell_type": "code",
   "execution_count": 39,
   "metadata": {
    "id": "Mpr1RQkLd4PS"
   },
   "outputs": [],
   "source": [
    "# Solution\n",
    "from my_krml_studentid.data.sets import save_sets\n",
    "\n",
    "save_sets(X_train, y_train, X_val, y_val, X_test, y_test, path='../data/processed/')"
   ]
  },
  {
   "cell_type": "markdown",
   "metadata": {
    "id": "JUEbyrm2ZzhL"
   },
   "source": [
    "### 6. Baseline Model"
   ]
  },
  {
   "cell_type": "markdown",
   "metadata": {
    "id": "faMubeDzZzuX"
   },
   "source": [
    "**[6.1]** Import the `NullClassifier` class from your custom package"
   ]
  },
  {
   "cell_type": "code",
   "execution_count": 40,
   "metadata": {
    "id": "KSrYPUCPZz1u"
   },
   "outputs": [],
   "source": [
    "# Placeholder for student's code (Python code)"
   ]
  },
  {
   "cell_type": "code",
   "execution_count": 41,
   "metadata": {
    "id": "vBSoR7LTZz3-"
   },
   "outputs": [],
   "source": [
    "# Solution:\n",
    "from my_krml_studentid.models.null import NullClassifier"
   ]
  },
  {
   "cell_type": "markdown",
   "metadata": {
    "id": "mVnjvNeHpCjC"
   },
   "source": [
    "**[6.2]** Instantiate a `NullClassifier` and save it into a variable called `base_model`"
   ]
  },
  {
   "cell_type": "code",
   "execution_count": 42,
   "metadata": {
    "id": "yLdpzmGepCr7"
   },
   "outputs": [],
   "source": [
    "# Placeholder for student's code (Python code)"
   ]
  },
  {
   "cell_type": "code",
   "execution_count": 43,
   "metadata": {
    "id": "7iuqH-OKpCx0"
   },
   "outputs": [],
   "source": [
    "# Solution:\n",
    "base_model = NullClassifier()"
   ]
  },
  {
   "cell_type": "markdown",
   "metadata": {
    "id": "jXG-miufpSm_"
   },
   "source": [
    "**[6.3]** Make a prediction using `fit_predict()` and save the results in a variable called `y_base`"
   ]
  },
  {
   "cell_type": "code",
   "execution_count": 44,
   "metadata": {
    "id": "EtBMkIV2pSzM"
   },
   "outputs": [],
   "source": [
    "# Placeholder for student's code (Python code)"
   ]
  },
  {
   "cell_type": "code",
   "execution_count": 45,
   "metadata": {
    "id": "X9qQmoXLpS5K"
   },
   "outputs": [],
   "source": [
    "# Solution:\n",
    "y_base = base_model.fit_predict(y_train)"
   ]
  },
  {
   "cell_type": "markdown",
   "metadata": {
    "id": "ekaUYYjqgfcF"
   },
   "source": [
    "**[6.4]** Import the function `print_classifier_scores` from your custom package and display the Accuracy and F1 scores of this baseline model on the training set"
   ]
  },
  {
   "cell_type": "code",
   "execution_count": 46,
   "metadata": {
    "id": "hSzb5ZsYgfhf"
   },
   "outputs": [],
   "source": [
    "# Placeholder for student's code (Python code)"
   ]
  },
  {
   "cell_type": "code",
   "execution_count": 50,
   "metadata": {
    "id": "h8Jmfhk0MQ0i"
   },
   "outputs": [
    {
     "name": "stdout",
     "output_type": "stream",
     "text": [
      "Accuracy Training: 0.34539024475646907\n",
      "F1 Training: 0.17733802015864514\n"
     ]
    }
   ],
   "source": [
    "from my_krml_studentid.models.performance import print_classifier_scores\n",
    "\n",
    "print_classifier_scores(y_preds=y_base, y_actuals=y_train, set_name='Training')"
   ]
  },
  {
   "cell_type": "code",
   "execution_count": 56,
   "metadata": {},
   "outputs": [
    {
     "data": {
      "image/png": "[encoded data removed]",
      "text/plain": [
       "<Figure size 640x480 with 2 Axes>"
      ]
     },
     "metadata": {},
     "output_type": "display_data"
    }
   ],
   "source": [
    "from sklearn.metrics import confusion_matrix, ConfusionMatrixDisplay\n",
    "import matplotlib.pyplot as plt\n",
    "\n",
    "cm = confusion_matrix(y_train, y_base, labels=[0, 1, 2, 3])\n",
    "disp = ConfusionMatrixDisplay(confusion_matrix=cm,\n",
    "                              display_labels=[0, 1, 2, 3])\n",
    "disp.plot()\n",
    "plt.show()"
   ]
  },
  {
   "cell_type": "markdown",
   "metadata": {
    "id": "1yX0Ocg4hcZM"
   },
   "source": [
    "### 7.   Push changes"
   ]
  },
  {
   "cell_type": "markdown",
   "metadata": {
    "id": "3guOKU9gjrmp"
   },
   "source": [
    "**[7.1]** Add you changes to git staging area"
   ]
  },
  {
   "cell_type": "code",
   "execution_count": null,
   "metadata": {
    "id": "lKuRNeqAj0ym"
   },
   "outputs": [],
   "source": [
    "# Placeholder for student's code (command line)"
   ]
  },
  {
   "cell_type": "code",
   "execution_count": null,
   "metadata": {
    "id": "axcj-jS0jruy"
   },
   "outputs": [],
   "source": [
    "# Solution:\n",
    "git add ."
   ]
  },
  {
   "cell_type": "markdown",
   "metadata": {
    "id": "6nUK2dp_j67X"
   },
   "source": [
    "**[7.2]** Create the snapshot of your repository and add a description"
   ]
  },
  {
   "cell_type": "code",
   "execution_count": null,
   "metadata": {
    "id": "1-M-aS-Ij7EE"
   },
   "outputs": [],
   "source": [
    "# Placeholder for student's code (command line)"
   ]
  },
  {
   "cell_type": "code",
   "execution_count": null,
   "metadata": {
    "id": "zovhzXRxj7Il"
   },
   "outputs": [],
   "source": [
    "# Solution:\n",
    "git commit -m \"data prep\""
   ]
  },
  {
   "cell_type": "markdown",
   "metadata": {
    "id": "Y9FciIQZj7nX"
   },
   "source": [
    "**[7.3]** Push your snapshot to Github"
   ]
  },
  {
   "cell_type": "code",
   "execution_count": null,
   "metadata": {
    "id": "IR7i6D5hj7uO"
   },
   "outputs": [],
   "source": [
    "# Placeholder for student's code (command line)"
   ]
  },
  {
   "cell_type": "code",
   "execution_count": null,
   "metadata": {
    "id": "WaVAgJ4Aj7wi"
   },
   "outputs": [],
   "source": [
    "# Solution:\n",
    "git push"
   ]
  },
  {
   "cell_type": "markdown",
   "metadata": {
    "id": "8B98cSvWkB-x"
   },
   "source": [
    "**[7.4]** Go to Github and merge the branch after reviewing the code and fixing any conflict\n",
    "\n",
    "\n"
   ]
  },
  {
   "cell_type": "markdown",
   "metadata": {
    "id": "d7a6bwMniAs1"
   },
   "source": [
    "**[7.5]** Check out to the master branch"
   ]
  },
  {
   "cell_type": "code",
   "execution_count": null,
   "metadata": {
    "id": "eM9v_33XiA1I"
   },
   "outputs": [],
   "source": [
    "# Placeholder for student's code (command line)"
   ]
  },
  {
   "cell_type": "code",
   "execution_count": null,
   "metadata": {
    "id": "d6-AI0x7iA4M"
   },
   "outputs": [],
   "source": [
    "# Solution:\n",
    "git checkout master"
   ]
  },
  {
   "cell_type": "markdown",
   "metadata": {
    "id": "v98Ka9kNiBLw"
   },
   "source": [
    "**[7.6]** Pull the latest updates"
   ]
  },
  {
   "cell_type": "code",
   "execution_count": null,
   "metadata": {
    "id": "yNZb1PyEjIOP"
   },
   "outputs": [],
   "source": [
    "# Placeholder for student's code (command line)"
   ]
  },
  {
   "cell_type": "code",
   "execution_count": null,
   "metadata": {
    "id": "5TJAEYxPjIRS"
   },
   "outputs": [],
   "source": [
    "# Solution:\n",
    "git pull"
   ]
  }
 ],
 "metadata": {
  "colab": {
   "provenance": []
  },
  "kernelspec": {
   "display_name": "Python 3 (ipykernel)",
   "language": "python",
   "name": "python3"
  },
  "language_info": {
   "codemirror_mode": {
    "name": "ipython",
    "version": 3
   },
   "file_extension": ".py",
   "mimetype": "text/x-python",
   "name": "python",
   "nbconvert_exporter": "python",
   "pygments_lexer": "ipython3",
   "version": "3.11.4"
  }
 },
 "nbformat": 4,
 "nbformat_minor": 4
}
