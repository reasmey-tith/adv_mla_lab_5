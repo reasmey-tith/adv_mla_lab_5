{
 "cells": [
  {
   "cell_type": "markdown",
   "metadata": {
    "id": "uQ6wc2HE0pke"
   },
   "source": [
    "# **Lab: Model Interpretation**\n"
   ]
  },
  {
   "cell_type": "markdown",
   "metadata": {
    "id": "tQgxLRrvjiJb"
   },
   "source": [
    "## Exercise 3: Xgboost with Hyperopt\n",
    "\n",
    "We will explore Hyperopt for automatic hyperparameter tuning with Xgboost.\n",
    "\n",
    "The steps are:\n",
    "1.   Create new Git branch\n",
    "2.   Load the dataset\n",
    "3.   Hyperparameter tuning with Hyperopt\n",
    "4.   Push changes\n"
   ]
  },
  {
   "cell_type": "markdown",
   "metadata": {
    "id": "-4muHxkVljnV"
   },
   "source": [
    "### 1.   Create new Git branch\n"
   ]
  },
  {
   "cell_type": "markdown",
   "metadata": {
    "id": "yEMXsrHbljnV"
   },
   "source": [
    "**[1.1]** Create a new git branch called `adv_mla_5_hyperopt`\n"
   ]
  },
  {
   "cell_type": "code",
   "execution_count": null,
   "metadata": {
    "id": "_OnJQ-afljnW"
   },
   "outputs": [],
   "source": [
    "# Placeholder for student's code (command line)"
   ]
  },
  {
   "cell_type": "code",
   "execution_count": null,
   "metadata": {
    "id": "vP5_D2VZljnW"
   },
   "outputs": [],
   "source": [
    "# Solution:\n",
    "git checkout -b adv_mla_5_hyperopt"
   ]
  },
  {
   "cell_type": "markdown",
   "metadata": {
    "id": "a5ZmqNy-ljnW"
   },
   "source": [
    "**[1.2]** Launch Jupyter Lab from your virtual environment"
   ]
  },
  {
   "cell_type": "code",
   "execution_count": null,
   "metadata": {
    "id": "OWWijHfbljnW"
   },
   "outputs": [],
   "source": [
    "# Placeholder for student's code (command line)"
   ]
  },
  {
   "cell_type": "code",
   "execution_count": null,
   "metadata": {
    "id": "F6FwrHXRljnW"
   },
   "outputs": [],
   "source": [
    "# Solution:\n",
    "poetry run jupyter lab"
   ]
  },
  {
   "cell_type": "markdown",
   "metadata": {
    "id": "rm99DWBCljnW"
   },
   "source": [
    "**[1.3]** Navigate the folder `notebooks` and create a new jupyter notebook called `3_hyperopt.ipynb`"
   ]
  },
  {
   "cell_type": "markdown",
   "metadata": {
    "id": "uiNcKHwSljnX"
   },
   "source": [
    "### 2. Load the dataset"
   ]
  },
  {
   "cell_type": "markdown",
   "metadata": {
    "id": "WDThosMxljnX"
   },
   "source": [
    "**[2.1]** Launch magic commands to automatically reload modules"
   ]
  },
  {
   "cell_type": "code",
   "execution_count": null,
   "metadata": {
    "id": "OOtOa8YSljnX"
   },
   "outputs": [],
   "source": [
    "# Placeholder for student's code (command line)"
   ]
  },
  {
   "cell_type": "code",
   "execution_count": 1,
   "metadata": {
    "id": "FVCTATJtljnX"
   },
   "outputs": [],
   "source": [
    "# Solution\n",
    "%load_ext autoreload\n",
    "%autoreload 2"
   ]
  },
  {
   "cell_type": "markdown",
   "metadata": {
    "id": "p00_MlTNljnX"
   },
   "source": [
    "**[2.2]** Import the pandas, numpy packages and dump from joblib"
   ]
  },
  {
   "cell_type": "code",
   "execution_count": 2,
   "metadata": {
    "id": "hWqdQAv-ljnX"
   },
   "outputs": [],
   "source": [
    "# Placeholder for student's code (command line)"
   ]
  },
  {
   "cell_type": "code",
   "execution_count": 3,
   "metadata": {
    "id": "EUUufHJMljnX"
   },
   "outputs": [],
   "source": [
    "# Solution\n",
    "import pandas as pd\n",
    "import numpy as np\n",
    "from joblib import dump"
   ]
  },
  {
   "cell_type": "markdown",
   "metadata": {
    "id": "FqZA8IBCljnX"
   },
   "source": [
    "**[2.3]** Import the `load_sets()` function from your custom package"
   ]
  },
  {
   "cell_type": "code",
   "execution_count": null,
   "metadata": {
    "id": "WNMi4C1zljnX"
   },
   "outputs": [],
   "source": [
    "# Placeholder for student's code (command line)"
   ]
  },
  {
   "cell_type": "code",
   "execution_count": 4,
   "metadata": {
    "id": "li5UyCJTljnX"
   },
   "outputs": [],
   "source": [
    "# Solution\n",
    "from my_krml_studentid.data.sets import load_sets"
   ]
  },
  {
   "cell_type": "markdown",
   "metadata": {
    "id": "LW-moDWBljnX"
   },
   "source": [
    "**[2.4]** Load the saved sets from `data/processed`"
   ]
  },
  {
   "cell_type": "code",
   "execution_count": 5,
   "metadata": {
    "id": "mX563LgPljnY"
   },
   "outputs": [],
   "source": [
    "# Placeholder for student's code (command line)"
   ]
  },
  {
   "cell_type": "code",
   "execution_count": 6,
   "metadata": {
    "id": "ZSRAkWriljnY"
   },
   "outputs": [],
   "source": [
    "# Solution\n",
    "X_train, y_train, X_val, y_val, X_test, y_test = load_sets(path='../data/processed/')"
   ]
  },
  {
   "cell_type": "markdown",
   "metadata": {
    "id": "MoU-4xkAwXeg"
   },
   "source": [
    "### 3. Hyperparameter tuning with Hyperopt"
   ]
  },
  {
   "cell_type": "markdown",
   "metadata": {
    "id": "bi-FdfKiljnY"
   },
   "source": [
    "**[3.1]** IMport xgboost"
   ]
  },
  {
   "cell_type": "code",
   "execution_count": 7,
   "metadata": {
    "id": "aFAnK0x6ljnY"
   },
   "outputs": [],
   "source": [
    "# Placeholder for student's code (command line)"
   ]
  },
  {
   "cell_type": "code",
   "execution_count": 8,
   "metadata": {
    "id": "9_zwTZXpljnY"
   },
   "outputs": [],
   "source": [
    "# Solution:\n",
    "import xgboost as xgb"
   ]
  },
  {
   "cell_type": "markdown",
   "metadata": {
    "id": "h8_1y9IHwXnM"
   },
   "source": [
    "**[3.2]** Import Trials, STATUS_OK, tpe, hp, fmin from hyperopt package"
   ]
  },
  {
   "cell_type": "code",
   "execution_count": 9,
   "metadata": {
    "id": "VJGuzojpwXus"
   },
   "outputs": [],
   "source": [
    "# Placeholder for student's code (Python code)"
   ]
  },
  {
   "cell_type": "code",
   "execution_count": 10,
   "metadata": {
    "id": "lRndcJ2nxjp4",
    "tags": []
   },
   "outputs": [],
   "source": [
    "# Solution:\n",
    "from hyperopt import Trials, STATUS_OK, tpe, hp, fmin\n",
    "rstate = np.random.default_rng(42)"
   ]
  },
  {
   "cell_type": "markdown",
   "metadata": {
    "id": "Mck4PVDTxt9T"
   },
   "source": [
    "**[3.3]** Define the search space for xgboost hyperparameters"
   ]
  },
  {
   "cell_type": "code",
   "execution_count": 11,
   "metadata": {
    "id": "laZLSZYsxuEh",
    "tags": []
   },
   "outputs": [],
   "source": [
    "space = {\n",
    "    'max_depth' : hp.choice('max_depth', range(3, 15, 1)),\n",
    "    'min_child_weight' : hp.choice('min_child_weight', range(3, 15, 1)),\n",
    "    'learning_rate' : hp.quniform('learning_rate', 0.01, 0.4, 0.05),\n",
    "    'subsample' : hp.quniform('subsample', 0.7, 1, 0.05),\n",
    "    'colsample_bytree' : hp.quniform('colsample_bytree', 0.2, 0.5, 0.05)\n",
    "}"
   ]
  },
  {
   "cell_type": "markdown",
   "metadata": {
    "id": "8M9Aktt4xyEY"
   },
   "source": [
    "**[3.4]** Define a function called `objective` with the following logics:\n",
    "- input parameters: hyperparameter seacrh space (`space`)\n",
    "- logics: train a xgboost model with the search space and calculate the average accuracy score for cross validation with 5 folds\n",
    "- output parameters: dictionary with the loss score and STATUS_OK"
   ]
  },
  {
   "cell_type": "code",
   "execution_count": 12,
   "metadata": {
    "id": "s4aYuQhpxynj"
   },
   "outputs": [],
   "source": [
    "# Placeholder for student's code (Python code)"
   ]
  },
  {
   "cell_type": "code",
   "execution_count": 13,
   "metadata": {
    "id": "yF8I9wCzxuHV",
    "tags": []
   },
   "outputs": [],
   "source": [
    "# Solution:\n",
    "def objective(space):\n",
    "    from sklearn.model_selection import cross_val_score\n",
    "\n",
    "    xgboost = xgb.XGBClassifier(\n",
    "        max_depth = int(space['max_depth']),\n",
    "        learning_rate = space['learning_rate'],\n",
    "        min_child_weight = space['min_child_weight'],\n",
    "        subsample = space['subsample'],\n",
    "        colsample_bytree = space['colsample_bytree']\n",
    "    )\n",
    "\n",
    "    acc = cross_val_score(xgboost, X_train, y_train, cv=5, scoring=\"accuracy\").mean()\n",
    "\n",
    "    return{'loss': 1-acc, 'status': STATUS_OK }"
   ]
  },
  {
   "cell_type": "markdown",
   "metadata": {
    "id": "A_ClL57Vzz2e"
   },
   "source": [
    "**[3.5]** Launch Hyperopt search and save the result in a variable called `best`"
   ]
  },
  {
   "cell_type": "code",
   "execution_count": 14,
   "metadata": {
    "id": "Tj22kb4lz0AY",
    "tags": []
   },
   "outputs": [
    {
     "name": "stdout",
     "output_type": "stream",
     "text": [
      "100%|██████████| 3/3 [00:30<00:00, 10.14s/trial, best loss: 0.09929619384432231]\n"
     ]
    }
   ],
   "source": [
    "best = fmin(\n",
    "    fn=objective,\n",
    "    space=space,\n",
    "    algo=tpe.suggest,\n",
    "    max_evals=3,\n",
    "    rstate=rstate\n",
    ")"
   ]
  },
  {
   "cell_type": "markdown",
   "metadata": {
    "id": "gJm3Scgp0AMy"
   },
   "source": [
    "**[3.6]** Print the best set of hyperparameters"
   ]
  },
  {
   "cell_type": "code",
   "execution_count": 15,
   "metadata": {
    "id": "tfio_97p0AS8"
   },
   "outputs": [],
   "source": [
    "# Placeholder for student's code (Python code)"
   ]
  },
  {
   "cell_type": "code",
   "execution_count": 16,
   "metadata": {
    "id": "uIBz96z20AVw",
    "tags": []
   },
   "outputs": [
    {
     "name": "stdout",
     "output_type": "stream",
     "text": [
      "Best:  {'colsample_bytree': np.float64(0.4), 'learning_rate': np.float64(0.35000000000000003), 'max_depth': np.int64(7), 'min_child_weight': np.int64(7), 'subsample': np.float64(0.9500000000000001)}\n"
     ]
    }
   ],
   "source": [
    "# Solution:\n",
    "print(\"Best: \", best)"
   ]
  },
  {
   "cell_type": "markdown",
   "metadata": {
    "id": "s76GS-Rl0SpV"
   },
   "source": [
    "**[3.7]** Instantiate a XGBClassifier with best set of hyperparameters"
   ]
  },
  {
   "cell_type": "code",
   "execution_count": 17,
   "metadata": {
    "id": "al9WkXFz0SxG"
   },
   "outputs": [],
   "source": [
    "# Placeholder for student's code (Python code)"
   ]
  },
  {
   "cell_type": "code",
   "execution_count": 18,
   "metadata": {
    "id": "BhalZZ3J0S6v",
    "tags": []
   },
   "outputs": [],
   "source": [
    "# Solution:\n",
    "xgboost2 = xgb.XGBClassifier(\n",
    "    max_depth = best['max_depth'],\n",
    "    learning_rate = best['learning_rate'],\n",
    "    min_child_weight = best['min_child_weight'],\n",
    "    subsample = best['subsample'],\n",
    "    colsample_bytree = best['colsample_bytree']\n",
    ")"
   ]
  },
  {
   "cell_type": "markdown",
   "metadata": {
    "id": "Z0oBRC_n0kjk"
   },
   "source": [
    "**[3.8]** Fit the model and display its performance on the training and validation sets"
   ]
  },
  {
   "cell_type": "code",
   "execution_count": 19,
   "metadata": {
    "id": "__oxPYWH0krY"
   },
   "outputs": [],
   "source": [
    "# Placeholder for student's code (Python code)"
   ]
  },
  {
   "cell_type": "code",
   "execution_count": 21,
   "metadata": {
    "id": "q2WRU7fo0ktJ",
    "tags": []
   },
   "outputs": [
    {
     "name": "stdout",
     "output_type": "stream",
     "text": [
      "Accuracy Training: 0.9245841941244441\n",
      "F1 Training: 0.9243054549749032\n",
      "Accuracy Validation: 0.903821508855228\n",
      "F1 Validation: 0.9033933941421698\n"
     ]
    }
   ],
   "source": [
    "# Solution:\n",
    "from my_krml_studentid.models.performance import fit_assess_classifier\n",
    "\n",
    "xgboost2 = fit_assess_classifier(xgboost2, X_train, y_train, X_val, y_val)"
   ]
  },
  {
   "cell_type": "code",
   "execution_count": null,
   "metadata": {},
   "outputs": [],
   "source": [
    "from sklearn.metrics import confusion_matrix, ConfusionMatrixDisplay\n",
    "import matplotlib.pyplot as plt\n",
    "\n",
    "\n",
    "cm = confusion_matrix(y_train, y_preds, labels=[0, 1, 2, 3])\n",
    "disp = ConfusionMatrixDisplay(confusion_matrix=cm,\n",
    "                              display_labels=[0, 1, 2, 3])\n",
    "disp.plot()\n",
    "plt.show()"
   ]
  },
  {
   "cell_type": "markdown",
   "metadata": {
    "id": "dSmI_Gaw0mDB"
   },
   "source": [
    "**[3.9]** Save the fitted model into the folder models as a file called `xgboost_best`"
   ]
  },
  {
   "cell_type": "code",
   "execution_count": null,
   "metadata": {
    "id": "585Uwlg50mKl"
   },
   "outputs": [],
   "source": [
    "# Placeholder for student's code (Python code)"
   ]
  },
  {
   "cell_type": "code",
   "execution_count": null,
   "metadata": {
    "id": "VY5n-7X-0mMy",
    "tags": []
   },
   "outputs": [],
   "source": [
    "# Solution:\n",
    "dump(xgboost2,  '../models/xgboost_best.joblib')"
   ]
  },
  {
   "cell_type": "markdown",
   "metadata": {
    "id": "1yX0Ocg4hcZM"
   },
   "source": [
    "# 4.   Push changes"
   ]
  },
  {
   "cell_type": "markdown",
   "metadata": {
    "id": "3guOKU9gjrmp"
   },
   "source": [
    "**[4.1]** Add you changes to git staging area"
   ]
  },
  {
   "cell_type": "code",
   "execution_count": null,
   "metadata": {
    "id": "lKuRNeqAj0ym"
   },
   "outputs": [],
   "source": [
    "# Placeholder for student's code (command line)"
   ]
  },
  {
   "cell_type": "code",
   "execution_count": null,
   "metadata": {
    "id": "axcj-jS0jruy"
   },
   "outputs": [],
   "source": [
    "# Solution:\n",
    "git add ."
   ]
  },
  {
   "cell_type": "markdown",
   "metadata": {
    "id": "6nUK2dp_j67X"
   },
   "source": [
    "**[4.2]** Create the snapshot of your repository and add a description"
   ]
  },
  {
   "cell_type": "code",
   "execution_count": null,
   "metadata": {
    "id": "1-M-aS-Ij7EE"
   },
   "outputs": [],
   "source": [
    "# Placeholder for student's code (command line)"
   ]
  },
  {
   "cell_type": "code",
   "execution_count": null,
   "metadata": {
    "id": "zovhzXRxj7Il"
   },
   "outputs": [],
   "source": [
    "# Solution:\n",
    "git commit -m \"xgboost hyperopt\""
   ]
  },
  {
   "cell_type": "markdown",
   "metadata": {
    "id": "Y9FciIQZj7nX"
   },
   "source": [
    "**[4.3]** Push your snapshot to Github\n"
   ]
  },
  {
   "cell_type": "code",
   "execution_count": null,
   "metadata": {
    "id": "IR7i6D5hj7uO"
   },
   "outputs": [],
   "source": [
    "# Placeholder for student's code (command line)"
   ]
  },
  {
   "cell_type": "code",
   "execution_count": null,
   "metadata": {
    "id": "WaVAgJ4Aj7wi"
   },
   "outputs": [],
   "source": [
    "# Solution:\n",
    "git push"
   ]
  },
  {
   "cell_type": "markdown",
   "metadata": {
    "id": "8B98cSvWkB-x"
   },
   "source": [
    "**[4.4]** Go to Github and merge the branch after reviewing the code and fixing any conflict\n",
    "\n",
    "\n"
   ]
  },
  {
   "cell_type": "markdown",
   "metadata": {
    "id": "d7a6bwMniAs1"
   },
   "source": [
    "**[4.5]** Check out to the master branch"
   ]
  },
  {
   "cell_type": "code",
   "execution_count": null,
   "metadata": {
    "id": "eM9v_33XiA1I"
   },
   "outputs": [],
   "source": [
    "# Placeholder for student's code (command line)"
   ]
  },
  {
   "cell_type": "code",
   "execution_count": null,
   "metadata": {
    "id": "d6-AI0x7iA4M"
   },
   "outputs": [],
   "source": [
    "# Solution:\n",
    "git checkout master"
   ]
  },
  {
   "cell_type": "markdown",
   "metadata": {
    "id": "v98Ka9kNiBLw"
   },
   "source": [
    "**[4.6]** Pull the latest updates"
   ]
  },
  {
   "cell_type": "code",
   "execution_count": null,
   "metadata": {
    "id": "yNZb1PyEjIOP"
   },
   "outputs": [],
   "source": [
    "# Placeholder for student's code (command line)"
   ]
  },
  {
   "cell_type": "code",
   "execution_count": null,
   "metadata": {
    "id": "5TJAEYxPjIRS"
   },
   "outputs": [],
   "source": [
    "# Solution\n",
    "git pull"
   ]
  }
 ],
 "metadata": {
  "colab": {
   "provenance": []
  },
  "kernelspec": {
   "display_name": "Python 3 (ipykernel)",
   "language": "python",
   "name": "python3"
  },
  "language_info": {
   "codemirror_mode": {
    "name": "ipython",
    "version": 3
   },
   "file_extension": ".py",
   "mimetype": "text/x-python",
   "name": "python",
   "nbconvert_exporter": "python",
   "pygments_lexer": "ipython3",
   "version": "3.11.4"
  }
 },
 "nbformat": 4,
 "nbformat_minor": 4
}
